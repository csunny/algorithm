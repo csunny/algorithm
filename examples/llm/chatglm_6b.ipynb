{
 "cells": [
  {
   "cell_type": "code",
   "execution_count": 2,
   "metadata": {},
   "outputs": [
    {
     "name": "stderr",
     "output_type": "stream",
     "text": [
      "2023-03-24 13:23:42,613 - modelscope - INFO - Model revision not specified, use the latest revision: v1.0.7\n"
     ]
    },
    {
     "data": {
      "text/html": [
       "<pre style=\"white-space:pre;overflow-x:auto;line-height:normal;font-family:Menlo,'DejaVu Sans Mono',consolas,'Courier New',monospace\">Model revision not specified, use the latest revision: v1.0.7\n",
       "</pre>\n"
      ],
      "text/plain": [
       "Model revision not specified, use the latest revision: v1.0.7\n"
      ]
     },
     "metadata": {},
     "output_type": "display_data"
    },
    {
     "data": {
      "text/html": [
       "<pre style=\"white-space:pre;overflow-x:auto;line-height:normal;font-family:Menlo,'DejaVu Sans Mono',consolas,'Courier New',monospace\">Requirement already satisfied: cpm_kernels in /Users/magic/miniconda3/envs/nlp_env/lib/python3.9/site-packages (from -r /Users/magic/.cache/modelscope/hub/ZhipuAI/ChatGLM-6B/requirements.txt (line 1)) (1.0.11)\n",
       "</pre>\n"
      ],
      "text/plain": [
       "Requirement already satisfied: cpm_kernels in /Users/magic/miniconda3/envs/nlp_env/lib/python3.9/site-packages (from -r /Users/magic/.cache/modelscope/hub/ZhipuAI/ChatGLM-6B/requirements.txt (line 1)) (1.0.11)\n"
      ]
     },
     "metadata": {},
     "output_type": "display_data"
    },
    {
     "data": {
      "text/html": [
       "<pre style=\"white-space:pre;overflow-x:auto;line-height:normal;font-family:Menlo,'DejaVu Sans Mono',consolas,'Courier New',monospace\">Requirement already satisfied: icetk in /Users/magic/miniconda3/envs/nlp_env/lib/python3.9/site-packages (from -r /Users/magic/.cache/modelscope/hub/ZhipuAI/ChatGLM-6B/requirements.txt (line 2)) (0.0.4)\n",
       "</pre>\n"
      ],
      "text/plain": [
       "Requirement already satisfied: icetk in /Users/magic/miniconda3/envs/nlp_env/lib/python3.9/site-packages (from -r /Users/magic/.cache/modelscope/hub/ZhipuAI/ChatGLM-6B/requirements.txt (line 2)) (0.0.4)\n"
      ]
     },
     "metadata": {},
     "output_type": "display_data"
    },
    {
     "data": {
      "text/html": [
       "<pre style=\"white-space:pre;overflow-x:auto;line-height:normal;font-family:Menlo,'DejaVu Sans Mono',consolas,'Courier New',monospace\">Requirement already satisfied: protobuf==3.20 in /Users/magic/miniconda3/envs/nlp_env/lib/python3.9/site-packages (from -r /Users/magic/.cache/modelscope/hub/ZhipuAI/ChatGLM-6B/requirements.txt (line 3)) (3.20.0)\n",
       "</pre>\n"
      ],
      "text/plain": [
       "Requirement already satisfied: protobuf==3.20 in /Users/magic/miniconda3/envs/nlp_env/lib/python3.9/site-packages (from -r /Users/magic/.cache/modelscope/hub/ZhipuAI/ChatGLM-6B/requirements.txt (line 3)) (3.20.0)\n"
      ]
     },
     "metadata": {},
     "output_type": "display_data"
    },
    {
     "data": {
      "text/html": [
       "<pre style=\"white-space:pre;overflow-x:auto;line-height:normal;font-family:Menlo,'DejaVu Sans Mono',consolas,'Courier New',monospace\">Requirement already satisfied: transformers==4.26.1 in /Users/magic/miniconda3/envs/nlp_env/lib/python3.9/site-packages (from -r /Users/magic/.cache/modelscope/hub/ZhipuAI/ChatGLM-6B/requirements.txt (line 4)) (4.26.1)\n",
       "</pre>\n"
      ],
      "text/plain": [
       "Requirement already satisfied: transformers==4.26.1 in /Users/magic/miniconda3/envs/nlp_env/lib/python3.9/site-packages (from -r /Users/magic/.cache/modelscope/hub/ZhipuAI/ChatGLM-6B/requirements.txt (line 4)) (4.26.1)\n"
      ]
     },
     "metadata": {},
     "output_type": "display_data"
    },
    {
     "data": {
      "text/html": [
       "<pre style=\"white-space:pre;overflow-x:auto;line-height:normal;font-family:Menlo,'DejaVu Sans Mono',consolas,'Courier New',monospace\">Requirement already satisfied: huggingface-hub==0.12.0 in /Users/magic/miniconda3/envs/nlp_env/lib/python3.9/site-packages (from -r /Users/magic/.cache/modelscope/hub/ZhipuAI/ChatGLM-6B/requirements.txt (line 5)) (0.12.0)\n",
       "</pre>\n"
      ],
      "text/plain": [
       "Requirement already satisfied: huggingface-hub==0.12.0 in /Users/magic/miniconda3/envs/nlp_env/lib/python3.9/site-packages (from -r /Users/magic/.cache/modelscope/hub/ZhipuAI/ChatGLM-6B/requirements.txt (line 5)) (0.12.0)\n"
      ]
     },
     "metadata": {},
     "output_type": "display_data"
    },
    {
     "data": {
      "text/html": [
       "<pre style=\"white-space:pre;overflow-x:auto;line-height:normal;font-family:Menlo,'DejaVu Sans Mono',consolas,'Courier New',monospace\">Requirement already satisfied: numpy&gt;=1.17 in /Users/magic/miniconda3/envs/nlp_env/lib/python3.9/site-packages (from transformers==4.26.1-&gt;-r /Users/magic/.cache/modelscope/hub/ZhipuAI/ChatGLM-6B/requirements.txt (line 4)) (1.24.2)\n",
       "</pre>\n"
      ],
      "text/plain": [
       "Requirement already satisfied: numpy>=1.17 in /Users/magic/miniconda3/envs/nlp_env/lib/python3.9/site-packages (from transformers==4.26.1->-r /Users/magic/.cache/modelscope/hub/ZhipuAI/ChatGLM-6B/requirements.txt (line 4)) (1.24.2)\n"
      ]
     },
     "metadata": {},
     "output_type": "display_data"
    },
    {
     "data": {
      "text/html": [
       "<pre style=\"white-space:pre;overflow-x:auto;line-height:normal;font-family:Menlo,'DejaVu Sans Mono',consolas,'Courier New',monospace\">Requirement already satisfied: tqdm&gt;=4.27 in /Users/magic/miniconda3/envs/nlp_env/lib/python3.9/site-packages (from transformers==4.26.1-&gt;-r /Users/magic/.cache/modelscope/hub/ZhipuAI/ChatGLM-6B/requirements.txt (line 4)) (4.65.0)\n",
       "</pre>\n"
      ],
      "text/plain": [
       "Requirement already satisfied: tqdm>=4.27 in /Users/magic/miniconda3/envs/nlp_env/lib/python3.9/site-packages (from transformers==4.26.1->-r /Users/magic/.cache/modelscope/hub/ZhipuAI/ChatGLM-6B/requirements.txt (line 4)) (4.65.0)\n"
      ]
     },
     "metadata": {},
     "output_type": "display_data"
    },
    {
     "data": {
      "text/html": [
       "<pre style=\"white-space:pre;overflow-x:auto;line-height:normal;font-family:Menlo,'DejaVu Sans Mono',consolas,'Courier New',monospace\">Requirement already satisfied: filelock in /Users/magic/miniconda3/envs/nlp_env/lib/python3.9/site-packages (from transformers==4.26.1-&gt;-r /Users/magic/.cache/modelscope/hub/ZhipuAI/ChatGLM-6B/requirements.txt (line 4)) (3.10.0)\n",
       "</pre>\n"
      ],
      "text/plain": [
       "Requirement already satisfied: filelock in /Users/magic/miniconda3/envs/nlp_env/lib/python3.9/site-packages (from transformers==4.26.1->-r /Users/magic/.cache/modelscope/hub/ZhipuAI/ChatGLM-6B/requirements.txt (line 4)) (3.10.0)\n"
      ]
     },
     "metadata": {},
     "output_type": "display_data"
    },
    {
     "data": {
      "text/html": [
       "<pre style=\"white-space:pre;overflow-x:auto;line-height:normal;font-family:Menlo,'DejaVu Sans Mono',consolas,'Courier New',monospace\">Requirement already satisfied: tokenizers!=0.11.3,&lt;0.14,&gt;=0.11.1 in /Users/magic/miniconda3/envs/nlp_env/lib/python3.9/site-packages (from transformers==4.26.1-&gt;-r /Users/magic/.cache/modelscope/hub/ZhipuAI/ChatGLM-6B/requirements.txt (line 4)) (0.13.2)\n",
       "</pre>\n"
      ],
      "text/plain": [
       "Requirement already satisfied: tokenizers!=0.11.3,<0.14,>=0.11.1 in /Users/magic/miniconda3/envs/nlp_env/lib/python3.9/site-packages (from transformers==4.26.1->-r /Users/magic/.cache/modelscope/hub/ZhipuAI/ChatGLM-6B/requirements.txt (line 4)) (0.13.2)\n"
      ]
     },
     "metadata": {},
     "output_type": "display_data"
    },
    {
     "data": {
      "text/html": [
       "<pre style=\"white-space:pre;overflow-x:auto;line-height:normal;font-family:Menlo,'DejaVu Sans Mono',consolas,'Courier New',monospace\">Requirement already satisfied: packaging&gt;=20.0 in /Users/magic/miniconda3/envs/nlp_env/lib/python3.9/site-packages (from transformers==4.26.1-&gt;-r /Users/magic/.cache/modelscope/hub/ZhipuAI/ChatGLM-6B/requirements.txt (line 4)) (23.0)\n",
       "</pre>\n"
      ],
      "text/plain": [
       "Requirement already satisfied: packaging>=20.0 in /Users/magic/miniconda3/envs/nlp_env/lib/python3.9/site-packages (from transformers==4.26.1->-r /Users/magic/.cache/modelscope/hub/ZhipuAI/ChatGLM-6B/requirements.txt (line 4)) (23.0)\n"
      ]
     },
     "metadata": {},
     "output_type": "display_data"
    },
    {
     "data": {
      "text/html": [
       "<pre style=\"white-space:pre;overflow-x:auto;line-height:normal;font-family:Menlo,'DejaVu Sans Mono',consolas,'Courier New',monospace\">Requirement already satisfied: requests in /Users/magic/miniconda3/envs/nlp_env/lib/python3.9/site-packages (from transformers==4.26.1-&gt;-r /Users/magic/.cache/modelscope/hub/ZhipuAI/ChatGLM-6B/requirements.txt (line 4)) (2.25.1)\n",
       "</pre>\n"
      ],
      "text/plain": [
       "Requirement already satisfied: requests in /Users/magic/miniconda3/envs/nlp_env/lib/python3.9/site-packages (from transformers==4.26.1->-r /Users/magic/.cache/modelscope/hub/ZhipuAI/ChatGLM-6B/requirements.txt (line 4)) (2.25.1)\n"
      ]
     },
     "metadata": {},
     "output_type": "display_data"
    },
    {
     "data": {
      "text/html": [
       "<pre style=\"white-space:pre;overflow-x:auto;line-height:normal;font-family:Menlo,'DejaVu Sans Mono',consolas,'Courier New',monospace\">Requirement already satisfied: regex!=2019.12.17 in /Users/magic/miniconda3/envs/nlp_env/lib/python3.9/site-packages (from transformers==4.26.1-&gt;-r /Users/magic/.cache/modelscope/hub/ZhipuAI/ChatGLM-6B/requirements.txt (line 4)) (2023.3.22)\n",
       "</pre>\n"
      ],
      "text/plain": [
       "Requirement already satisfied: regex!=2019.12.17 in /Users/magic/miniconda3/envs/nlp_env/lib/python3.9/site-packages (from transformers==4.26.1->-r /Users/magic/.cache/modelscope/hub/ZhipuAI/ChatGLM-6B/requirements.txt (line 4)) (2023.3.22)\n"
      ]
     },
     "metadata": {},
     "output_type": "display_data"
    },
    {
     "data": {
      "text/html": [
       "<pre style=\"white-space:pre;overflow-x:auto;line-height:normal;font-family:Menlo,'DejaVu Sans Mono',consolas,'Courier New',monospace\">Requirement already satisfied: pyyaml&gt;=5.1 in /Users/magic/miniconda3/envs/nlp_env/lib/python3.9/site-packages (from transformers==4.26.1-&gt;-r /Users/magic/.cache/modelscope/hub/ZhipuAI/ChatGLM-6B/requirements.txt (line 4)) (6.0)\n",
       "</pre>\n"
      ],
      "text/plain": [
       "Requirement already satisfied: pyyaml>=5.1 in /Users/magic/miniconda3/envs/nlp_env/lib/python3.9/site-packages (from transformers==4.26.1->-r /Users/magic/.cache/modelscope/hub/ZhipuAI/ChatGLM-6B/requirements.txt (line 4)) (6.0)\n"
      ]
     },
     "metadata": {},
     "output_type": "display_data"
    },
    {
     "data": {
      "text/html": [
       "<pre style=\"white-space:pre;overflow-x:auto;line-height:normal;font-family:Menlo,'DejaVu Sans Mono',consolas,'Courier New',monospace\">Requirement already satisfied: typing-extensions&gt;=3.7.4.3 in /Users/magic/miniconda3/envs/nlp_env/lib/python3.9/site-packages (from huggingface-hub==0.12.0-&gt;-r /Users/magic/.cache/modelscope/hub/ZhipuAI/ChatGLM-6B/requirements.txt (line 5)) (4.5.0)\n",
       "</pre>\n"
      ],
      "text/plain": [
       "Requirement already satisfied: typing-extensions>=3.7.4.3 in /Users/magic/miniconda3/envs/nlp_env/lib/python3.9/site-packages (from huggingface-hub==0.12.0->-r /Users/magic/.cache/modelscope/hub/ZhipuAI/ChatGLM-6B/requirements.txt (line 5)) (4.5.0)\n"
      ]
     },
     "metadata": {},
     "output_type": "display_data"
    },
    {
     "data": {
      "text/html": [
       "<pre style=\"white-space:pre;overflow-x:auto;line-height:normal;font-family:Menlo,'DejaVu Sans Mono',consolas,'Courier New',monospace\">Requirement already satisfied: sentencepiece in /Users/magic/miniconda3/envs/nlp_env/lib/python3.9/site-packages (from icetk-&gt;-r /Users/magic/.cache/modelscope/hub/ZhipuAI/ChatGLM-6B/requirements.txt (line 2)) (0.1.97)\n",
       "</pre>\n"
      ],
      "text/plain": [
       "Requirement already satisfied: sentencepiece in /Users/magic/miniconda3/envs/nlp_env/lib/python3.9/site-packages (from icetk->-r /Users/magic/.cache/modelscope/hub/ZhipuAI/ChatGLM-6B/requirements.txt (line 2)) (0.1.97)\n"
      ]
     },
     "metadata": {},
     "output_type": "display_data"
    },
    {
     "data": {
      "text/html": [
       "<pre style=\"white-space:pre;overflow-x:auto;line-height:normal;font-family:Menlo,'DejaVu Sans Mono',consolas,'Courier New',monospace\">Requirement already satisfied: torchvision in /Users/magic/miniconda3/envs/nlp_env/lib/python3.9/site-packages (from icetk-&gt;-r /Users/magic/.cache/modelscope/hub/ZhipuAI/ChatGLM-6B/requirements.txt (line 2)) (0.15.1)\n",
       "</pre>\n"
      ],
      "text/plain": [
       "Requirement already satisfied: torchvision in /Users/magic/miniconda3/envs/nlp_env/lib/python3.9/site-packages (from icetk->-r /Users/magic/.cache/modelscope/hub/ZhipuAI/ChatGLM-6B/requirements.txt (line 2)) (0.15.1)\n"
      ]
     },
     "metadata": {},
     "output_type": "display_data"
    },
    {
     "data": {
      "text/html": [
       "<pre style=\"white-space:pre;overflow-x:auto;line-height:normal;font-family:Menlo,'DejaVu Sans Mono',consolas,'Courier New',monospace\">Requirement already satisfied: chardet&lt;5,&gt;=3.0.2 in /Users/magic/miniconda3/envs/nlp_env/lib/python3.9/site-packages (from requests-&gt;transformers==4.26.1-&gt;-r /Users/magic/.cache/modelscope/hub/ZhipuAI/ChatGLM-6B/requirements.txt (line 4)) (4.0.0)\n",
       "</pre>\n"
      ],
      "text/plain": [
       "Requirement already satisfied: chardet<5,>=3.0.2 in /Users/magic/miniconda3/envs/nlp_env/lib/python3.9/site-packages (from requests->transformers==4.26.1->-r /Users/magic/.cache/modelscope/hub/ZhipuAI/ChatGLM-6B/requirements.txt (line 4)) (4.0.0)\n"
      ]
     },
     "metadata": {},
     "output_type": "display_data"
    },
    {
     "data": {
      "text/html": [
       "<pre style=\"white-space:pre;overflow-x:auto;line-height:normal;font-family:Menlo,'DejaVu Sans Mono',consolas,'Courier New',monospace\">Requirement already satisfied: urllib3&lt;1.27,&gt;=1.21.1 in /Users/magic/miniconda3/envs/nlp_env/lib/python3.9/site-packages (from requests-&gt;transformers==4.26.1-&gt;-r /Users/magic/.cache/modelscope/hub/ZhipuAI/ChatGLM-6B/requirements.txt (line 4)) (1.26.15)\n",
       "</pre>\n"
      ],
      "text/plain": [
       "Requirement already satisfied: urllib3<1.27,>=1.21.1 in /Users/magic/miniconda3/envs/nlp_env/lib/python3.9/site-packages (from requests->transformers==4.26.1->-r /Users/magic/.cache/modelscope/hub/ZhipuAI/ChatGLM-6B/requirements.txt (line 4)) (1.26.15)\n"
      ]
     },
     "metadata": {},
     "output_type": "display_data"
    },
    {
     "data": {
      "text/html": [
       "<pre style=\"white-space:pre;overflow-x:auto;line-height:normal;font-family:Menlo,'DejaVu Sans Mono',consolas,'Courier New',monospace\">Requirement already satisfied: certifi&gt;=2017.4.17 in /Users/magic/miniconda3/envs/nlp_env/lib/python3.9/site-packages (from requests-&gt;transformers==4.26.1-&gt;-r /Users/magic/.cache/modelscope/hub/ZhipuAI/ChatGLM-6B/requirements.txt (line 4)) (2022.12.7)\n",
       "</pre>\n"
      ],
      "text/plain": [
       "Requirement already satisfied: certifi>=2017.4.17 in /Users/magic/miniconda3/envs/nlp_env/lib/python3.9/site-packages (from requests->transformers==4.26.1->-r /Users/magic/.cache/modelscope/hub/ZhipuAI/ChatGLM-6B/requirements.txt (line 4)) (2022.12.7)\n"
      ]
     },
     "metadata": {},
     "output_type": "display_data"
    },
    {
     "data": {
      "text/html": [
       "<pre style=\"white-space:pre;overflow-x:auto;line-height:normal;font-family:Menlo,'DejaVu Sans Mono',consolas,'Courier New',monospace\">Requirement already satisfied: idna&lt;3,&gt;=2.5 in /Users/magic/miniconda3/envs/nlp_env/lib/python3.9/site-packages (from requests-&gt;transformers==4.26.1-&gt;-r /Users/magic/.cache/modelscope/hub/ZhipuAI/ChatGLM-6B/requirements.txt (line 4)) (2.10)\n",
       "</pre>\n"
      ],
      "text/plain": [
       "Requirement already satisfied: idna<3,>=2.5 in /Users/magic/miniconda3/envs/nlp_env/lib/python3.9/site-packages (from requests->transformers==4.26.1->-r /Users/magic/.cache/modelscope/hub/ZhipuAI/ChatGLM-6B/requirements.txt (line 4)) (2.10)\n"
      ]
     },
     "metadata": {},
     "output_type": "display_data"
    },
    {
     "data": {
      "text/html": [
       "<pre style=\"white-space:pre;overflow-x:auto;line-height:normal;font-family:Menlo,'DejaVu Sans Mono',consolas,'Courier New',monospace\">Requirement already satisfied: pillow!=8.3.*,&gt;=5.3.0 in /Users/magic/miniconda3/envs/nlp_env/lib/python3.9/site-packages (from torchvision-&gt;icetk-&gt;-r /Users/magic/.cache/modelscope/hub/ZhipuAI/ChatGLM-6B/requirements.txt (line 2)) (9.4.0)\n",
       "</pre>\n"
      ],
      "text/plain": [
       "Requirement already satisfied: pillow!=8.3.*,>=5.3.0 in /Users/magic/miniconda3/envs/nlp_env/lib/python3.9/site-packages (from torchvision->icetk->-r /Users/magic/.cache/modelscope/hub/ZhipuAI/ChatGLM-6B/requirements.txt (line 2)) (9.4.0)\n"
      ]
     },
     "metadata": {},
     "output_type": "display_data"
    },
    {
     "data": {
      "text/html": [
       "<pre style=\"white-space:pre;overflow-x:auto;line-height:normal;font-family:Menlo,'DejaVu Sans Mono',consolas,'Courier New',monospace\">Requirement already satisfied: torch==2.0.0 in /Users/magic/miniconda3/envs/nlp_env/lib/python3.9/site-packages (from torchvision-&gt;icetk-&gt;-r /Users/magic/.cache/modelscope/hub/ZhipuAI/ChatGLM-6B/requirements.txt (line 2)) (2.0.0)\n",
       "</pre>\n"
      ],
      "text/plain": [
       "Requirement already satisfied: torch==2.0.0 in /Users/magic/miniconda3/envs/nlp_env/lib/python3.9/site-packages (from torchvision->icetk->-r /Users/magic/.cache/modelscope/hub/ZhipuAI/ChatGLM-6B/requirements.txt (line 2)) (2.0.0)\n"
      ]
     },
     "metadata": {},
     "output_type": "display_data"
    },
    {
     "data": {
      "text/html": [
       "<pre style=\"white-space:pre;overflow-x:auto;line-height:normal;font-family:Menlo,'DejaVu Sans Mono',consolas,'Courier New',monospace\">Requirement already satisfied: jinja2 in /Users/magic/miniconda3/envs/nlp_env/lib/python3.9/site-packages (from torch==2.0.0-&gt;torchvision-&gt;icetk-&gt;-r /Users/magic/.cache/modelscope/hub/ZhipuAI/ChatGLM-6B/requirements.txt (line 2)) (3.1.2)\n",
       "</pre>\n"
      ],
      "text/plain": [
       "Requirement already satisfied: jinja2 in /Users/magic/miniconda3/envs/nlp_env/lib/python3.9/site-packages (from torch==2.0.0->torchvision->icetk->-r /Users/magic/.cache/modelscope/hub/ZhipuAI/ChatGLM-6B/requirements.txt (line 2)) (3.1.2)\n"
      ]
     },
     "metadata": {},
     "output_type": "display_data"
    },
    {
     "data": {
      "text/html": [
       "<pre style=\"white-space:pre;overflow-x:auto;line-height:normal;font-family:Menlo,'DejaVu Sans Mono',consolas,'Courier New',monospace\">Requirement already satisfied: networkx in /Users/magic/miniconda3/envs/nlp_env/lib/python3.9/site-packages (from torch==2.0.0-&gt;torchvision-&gt;icetk-&gt;-r /Users/magic/.cache/modelscope/hub/ZhipuAI/ChatGLM-6B/requirements.txt (line 2)) (3.0)\n",
       "</pre>\n"
      ],
      "text/plain": [
       "Requirement already satisfied: networkx in /Users/magic/miniconda3/envs/nlp_env/lib/python3.9/site-packages (from torch==2.0.0->torchvision->icetk->-r /Users/magic/.cache/modelscope/hub/ZhipuAI/ChatGLM-6B/requirements.txt (line 2)) (3.0)\n"
      ]
     },
     "metadata": {},
     "output_type": "display_data"
    },
    {
     "data": {
      "text/html": [
       "<pre style=\"white-space:pre;overflow-x:auto;line-height:normal;font-family:Menlo,'DejaVu Sans Mono',consolas,'Courier New',monospace\">Requirement already satisfied: sympy in /Users/magic/miniconda3/envs/nlp_env/lib/python3.9/site-packages (from torch==2.0.0-&gt;torchvision-&gt;icetk-&gt;-r /Users/magic/.cache/modelscope/hub/ZhipuAI/ChatGLM-6B/requirements.txt (line 2)) (1.11.1)\n",
       "</pre>\n"
      ],
      "text/plain": [
       "Requirement already satisfied: sympy in /Users/magic/miniconda3/envs/nlp_env/lib/python3.9/site-packages (from torch==2.0.0->torchvision->icetk->-r /Users/magic/.cache/modelscope/hub/ZhipuAI/ChatGLM-6B/requirements.txt (line 2)) (1.11.1)\n"
      ]
     },
     "metadata": {},
     "output_type": "display_data"
    },
    {
     "data": {
      "text/html": [
       "<pre style=\"white-space:pre;overflow-x:auto;line-height:normal;font-family:Menlo,'DejaVu Sans Mono',consolas,'Courier New',monospace\">Requirement already satisfied: MarkupSafe&gt;=2.0 in /Users/magic/miniconda3/envs/nlp_env/lib/python3.9/site-packages (from jinja2-&gt;torch==2.0.0-&gt;torchvision-&gt;icetk-&gt;-r /Users/magic/.cache/modelscope/hub/ZhipuAI/ChatGLM-6B/requirements.txt (line 2)) (2.1.2)\n",
       "</pre>\n"
      ],
      "text/plain": [
       "Requirement already satisfied: MarkupSafe>=2.0 in /Users/magic/miniconda3/envs/nlp_env/lib/python3.9/site-packages (from jinja2->torch==2.0.0->torchvision->icetk->-r /Users/magic/.cache/modelscope/hub/ZhipuAI/ChatGLM-6B/requirements.txt (line 2)) (2.1.2)\n"
      ]
     },
     "metadata": {},
     "output_type": "display_data"
    },
    {
     "data": {
      "text/html": [
       "<pre style=\"white-space:pre;overflow-x:auto;line-height:normal;font-family:Menlo,'DejaVu Sans Mono',consolas,'Courier New',monospace\">Requirement already satisfied: mpmath&gt;=0.19 in /Users/magic/miniconda3/envs/nlp_env/lib/python3.9/site-packages (from sympy-&gt;torch==2.0.0-&gt;torchvision-&gt;icetk-&gt;-r /Users/magic/.cache/modelscope/hub/ZhipuAI/ChatGLM-6B/requirements.txt (line 2)) (1.3.0)\n",
       "</pre>\n"
      ],
      "text/plain": [
       "Requirement already satisfied: mpmath>=0.19 in /Users/magic/miniconda3/envs/nlp_env/lib/python3.9/site-packages (from sympy->torch==2.0.0->torchvision->icetk->-r /Users/magic/.cache/modelscope/hub/ZhipuAI/ChatGLM-6B/requirements.txt (line 2)) (1.3.0)\n"
      ]
     },
     "metadata": {},
     "output_type": "display_data"
    },
    {
     "ename": "RuntimeError",
     "evalue": "Unknown platform: darwin",
     "output_type": "error",
     "traceback": [
      "\u001b[0;31m---------------------------------------------------------------------------\u001b[0m",
      "\u001b[0;31mRuntimeError\u001b[0m                              Traceback (most recent call last)",
      "Cell \u001b[0;32mIn[2], line 4\u001b[0m\n\u001b[1;32m      1\u001b[0m \u001b[39mfrom\u001b[39;00m \u001b[39mmodelscope\u001b[39;00m\u001b[39m.\u001b[39;00m\u001b[39mpipelines\u001b[39;00m \u001b[39mimport\u001b[39;00m pipeline\n\u001b[1;32m      2\u001b[0m \u001b[39mfrom\u001b[39;00m \u001b[39mmodelscope\u001b[39;00m\u001b[39m.\u001b[39;00m\u001b[39mutils\u001b[39;00m\u001b[39m.\u001b[39;00m\u001b[39mconstant\u001b[39;00m \u001b[39mimport\u001b[39;00m Tasks\n\u001b[0;32m----> 4\u001b[0m p \u001b[39m=\u001b[39m pipeline(\u001b[39m\"\u001b[39;49m\u001b[39mtext_generation\u001b[39;49m\u001b[39m\"\u001b[39;49m, \u001b[39m\"\u001b[39;49m\u001b[39mZhipuAI/ChatGLM-6B\u001b[39;49m\u001b[39m\"\u001b[39;49m)\n\u001b[1;32m      6\u001b[0m input_str \u001b[39m=\u001b[39m \u001b[39m\"\u001b[39m\u001b[39m今天天气不错，适合出去游玩\u001b[39m\u001b[39m\"\u001b[39m\n\u001b[1;32m      7\u001b[0m \u001b[39mprint\u001b[39m(p(input_str))\n",
      "File \u001b[0;32m~/miniconda3/envs/nlp_env/lib/python3.9/site-packages/modelscope/pipelines/builder.py:114\u001b[0m, in \u001b[0;36mpipeline\u001b[0;34m(task, model, preprocessor, config_file, pipeline_name, framework, device, model_revision, **kwargs)\u001b[0m\n\u001b[1;32m    112\u001b[0m         check_config(cfg)\n\u001b[1;32m    113\u001b[0m         register_plugins_repo(cfg\u001b[39m.\u001b[39msafe_get(\u001b[39m'\u001b[39m\u001b[39mplugins\u001b[39m\u001b[39m'\u001b[39m))\n\u001b[0;32m--> 114\u001b[0m         register_modelhub_repo(model, cfg\u001b[39m.\u001b[39;49mget(\u001b[39m'\u001b[39;49m\u001b[39mallow_remote\u001b[39;49m\u001b[39m'\u001b[39;49m, \u001b[39mFalse\u001b[39;49;00m))\n\u001b[1;32m    115\u001b[0m         pipeline_props \u001b[39m=\u001b[39m cfg\u001b[39m.\u001b[39mpipeline\n\u001b[1;32m    116\u001b[0m \u001b[39melif\u001b[39;00m model \u001b[39mis\u001b[39;00m \u001b[39mnot\u001b[39;00m \u001b[39mNone\u001b[39;00m:\n\u001b[1;32m    117\u001b[0m     \u001b[39m# get pipeline info from Model object\u001b[39;00m\n",
      "File \u001b[0;32m~/miniconda3/envs/nlp_env/lib/python3.9/site-packages/modelscope/utils/plugins.py:347\u001b[0m, in \u001b[0;36mregister_modelhub_repo\u001b[0;34m(model_dir, allow_remote)\u001b[0m\n\u001b[1;32m    345\u001b[0m \u001b[39mif\u001b[39;00m allow_remote:\n\u001b[1;32m    346\u001b[0m     \u001b[39mtry\u001b[39;00m:\n\u001b[0;32m--> 347\u001b[0m         import_module_from_model_dir(model_dir)\n\u001b[1;32m    348\u001b[0m     \u001b[39mexcept\u001b[39;00m \u001b[39mKeyError\u001b[39;00m:\n\u001b[1;32m    349\u001b[0m         logger\u001b[39m.\u001b[39mwarning(\n\u001b[1;32m    350\u001b[0m             \u001b[39m'\u001b[39m\u001b[39mMulti component keys in the hub are registered in same file\u001b[39m\u001b[39m'\u001b[39m)\n",
      "File \u001b[0;32m~/miniconda3/envs/nlp_env/lib/python3.9/site-packages/modelscope/utils/plugins.py:298\u001b[0m, in \u001b[0;36mimport_module_from_model_dir\u001b[0;34m(model_dir)\u001b[0m\n\u001b[1;32m    296\u001b[0m \u001b[39mfor\u001b[39;00m file \u001b[39min\u001b[39;00m file_dirs:\n\u001b[1;32m    297\u001b[0m     module_name \u001b[39m=\u001b[39m Path(file)\u001b[39m.\u001b[39mstem\n\u001b[0;32m--> 298\u001b[0m     import_module_from_file(module_name, file)\n",
      "File \u001b[0;32m~/miniconda3/envs/nlp_env/lib/python3.9/site-packages/modelscope/utils/plugins.py:279\u001b[0m, in \u001b[0;36mimport_module_from_file\u001b[0;34m(module_name, file_path)\u001b[0m\n\u001b[1;32m    277\u001b[0m spec \u001b[39m=\u001b[39m importlib\u001b[39m.\u001b[39mutil\u001b[39m.\u001b[39mspec_from_file_location(module_name, file_path)\n\u001b[1;32m    278\u001b[0m module \u001b[39m=\u001b[39m importlib\u001b[39m.\u001b[39mutil\u001b[39m.\u001b[39mmodule_from_spec(spec)\n\u001b[0;32m--> 279\u001b[0m spec\u001b[39m.\u001b[39;49mloader\u001b[39m.\u001b[39;49mexec_module(module)\n\u001b[1;32m    280\u001b[0m \u001b[39mreturn\u001b[39;00m module\n",
      "File \u001b[0;32m<frozen importlib._bootstrap_external>:850\u001b[0m, in \u001b[0;36mexec_module\u001b[0;34m(self, module)\u001b[0m\n",
      "File \u001b[0;32m<frozen importlib._bootstrap>:228\u001b[0m, in \u001b[0;36m_call_with_frames_removed\u001b[0;34m(f, *args, **kwds)\u001b[0m\n",
      "File \u001b[0;32m~/.cache/modelscope/hub/ZhipuAI/ChatGLM-6B/quantization.py:10\u001b[0m\n\u001b[1;32m      7\u001b[0m \u001b[39mimport\u001b[39;00m \u001b[39mctypes\u001b[39;00m\n\u001b[1;32m      9\u001b[0m \u001b[39mfrom\u001b[39;00m \u001b[39mtyping\u001b[39;00m \u001b[39mimport\u001b[39;00m List\n\u001b[0;32m---> 10\u001b[0m \u001b[39mfrom\u001b[39;00m \u001b[39mcpm_kernels\u001b[39;00m\u001b[39m.\u001b[39;00m\u001b[39mkernels\u001b[39;00m\u001b[39m.\u001b[39;00m\u001b[39mbase\u001b[39;00m \u001b[39mimport\u001b[39;00m LazyKernelCModule, KernelFunction, round_up\n\u001b[1;32m     13\u001b[0m \u001b[39mclass\u001b[39;00m \u001b[39mW8A16Linear\u001b[39;00m(torch\u001b[39m.\u001b[39mautograd\u001b[39m.\u001b[39mFunction):\n\u001b[1;32m     14\u001b[0m     \u001b[39m@staticmethod\u001b[39m\n\u001b[1;32m     15\u001b[0m     \u001b[39mdef\u001b[39;00m \u001b[39mforward\u001b[39m(ctx, inp: torch\u001b[39m.\u001b[39mTensor, quant_w: torch\u001b[39m.\u001b[39mTensor, scale_w: torch\u001b[39m.\u001b[39mTensor, weight_bit_width):\n",
      "File \u001b[0;32m~/miniconda3/envs/nlp_env/lib/python3.9/site-packages/cpm_kernels/__init__.py:1\u001b[0m\n\u001b[0;32m----> 1\u001b[0m \u001b[39mfrom\u001b[39;00m \u001b[39m.\u001b[39;00m \u001b[39mimport\u001b[39;00m library\n\u001b[1;32m      2\u001b[0m \u001b[39mfrom\u001b[39;00m \u001b[39m.\u001b[39;00m\u001b[39mkernels\u001b[39;00m \u001b[39mimport\u001b[39;00m \u001b[39m*\u001b[39m\n",
      "File \u001b[0;32m~/miniconda3/envs/nlp_env/lib/python3.9/site-packages/cpm_kernels/library/__init__.py:1\u001b[0m\n\u001b[0;32m----> 1\u001b[0m \u001b[39mfrom\u001b[39;00m \u001b[39m.\u001b[39;00m \u001b[39mimport\u001b[39;00m nvrtc\n\u001b[1;32m      2\u001b[0m \u001b[39mfrom\u001b[39;00m \u001b[39m.\u001b[39;00m \u001b[39mimport\u001b[39;00m cuda\n\u001b[1;32m      3\u001b[0m \u001b[39mfrom\u001b[39;00m \u001b[39m.\u001b[39;00m \u001b[39mimport\u001b[39;00m cudart\n",
      "File \u001b[0;32m~/miniconda3/envs/nlp_env/lib/python3.9/site-packages/cpm_kernels/library/nvrtc.py:5\u001b[0m\n\u001b[1;32m      2\u001b[0m \u001b[39mfrom\u001b[39;00m \u001b[39mtyping\u001b[39;00m \u001b[39mimport\u001b[39;00m List, Tuple\n\u001b[1;32m      3\u001b[0m \u001b[39mfrom\u001b[39;00m \u001b[39m.\u001b[39;00m\u001b[39mbase\u001b[39;00m \u001b[39mimport\u001b[39;00m Lib\n\u001b[0;32m----> 5\u001b[0m nvrtc \u001b[39m=\u001b[39m Lib(\u001b[39m\"\u001b[39;49m\u001b[39mnvrtc\u001b[39;49m\u001b[39m\"\u001b[39;49m)\n\u001b[1;32m      7\u001b[0m nvrtcResult \u001b[39m=\u001b[39m ctypes\u001b[39m.\u001b[39mc_int\n\u001b[1;32m      8\u001b[0m NVRTC_SUCCESS \u001b[39m=\u001b[39m \u001b[39m0\u001b[39m\n",
      "File \u001b[0;32m~/miniconda3/envs/nlp_env/lib/python3.9/site-packages/cpm_kernels/library/base.py:59\u001b[0m, in \u001b[0;36mLib.__init__\u001b[0;34m(self, name)\u001b[0m\n\u001b[1;32m     57\u001b[0m         \u001b[39mself\u001b[39m\u001b[39m.\u001b[39m__lib \u001b[39m=\u001b[39m \u001b[39mNone\u001b[39;00m\n\u001b[1;32m     58\u001b[0m \u001b[39melse\u001b[39;00m:\n\u001b[0;32m---> 59\u001b[0m     \u001b[39mraise\u001b[39;00m \u001b[39mRuntimeError\u001b[39;00m(\u001b[39m\"\u001b[39m\u001b[39mUnknown platform: \u001b[39m\u001b[39m%s\u001b[39;00m\u001b[39m\"\u001b[39m \u001b[39m%\u001b[39m sys\u001b[39m.\u001b[39mplatform)\n",
      "\u001b[0;31mRuntimeError\u001b[0m: Unknown platform: darwin"
     ]
    }
   ],
   "source": [
    "from modelscope.pipelines import pipeline\n",
    "from modelscope.utils.constant import Tasks\n",
    "\n",
    "p = pipeline(\"text_generation\", \"ZhipuAI/ChatGLM-6B\")\n",
    "\n",
    "input_str = \"今天天气不错，适合出去游玩\"\n",
    "print(p(input_str))"
   ]
  },
  {
   "cell_type": "code",
   "execution_count": null,
   "metadata": {},
   "outputs": [],
   "source": []
  }
 ],
 "metadata": {
  "kernelspec": {
   "display_name": "nlp_env",
   "language": "python",
   "name": "python3"
  },
  "language_info": {
   "codemirror_mode": {
    "name": "ipython",
    "version": 3
   },
   "file_extension": ".py",
   "mimetype": "text/x-python",
   "name": "python",
   "nbconvert_exporter": "python",
   "pygments_lexer": "ipython3",
   "version": "3.9.16 (main, Mar  8 2023, 04:29:24) \n[Clang 14.0.6 ]"
  },
  "orig_nbformat": 4,
  "vscode": {
   "interpreter": {
    "hash": "e5ac928b407ae3d9eee54c7d4eb1139c77f0b201f06a4e3b940b778e43a925a5"
   }
  }
 },
 "nbformat": 4,
 "nbformat_minor": 2
}
