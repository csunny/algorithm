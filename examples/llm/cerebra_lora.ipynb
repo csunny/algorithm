{
 "cells": [
  {
   "cell_type": "code",
   "execution_count": 5,
   "metadata": {},
   "outputs": [
    {
     "name": "stdout",
     "output_type": "stream",
     "text": [
      "True\n",
      "True\n",
      "99 2345.003662109375\n",
      "199 1562.4052734375\n",
      "299 1042.345703125\n",
      "399 696.6382446289062\n",
      "499 466.752685546875\n",
      "599 313.8305969238281\n",
      "699 212.06666564941406\n",
      "799 144.3193359375\n",
      "899 99.19884490966797\n",
      "999 69.13468170166016\n",
      "1099 49.09312438964844\n",
      "1199 35.7263069152832\n",
      "1299 26.806650161743164\n",
      "1399 20.851268768310547\n",
      "1499 16.87276840209961\n",
      "1599 14.21328353881836\n",
      "1699 12.434476852416992\n",
      "1799 11.243846893310547\n",
      "1899 10.44640064239502\n",
      "1999 9.911906242370605\n",
      "Result: y = 0.01724269427359104 + 0.8287456631660461 x ^2 + -0.08934833854436874 x ^3\n"
     ]
    }
   ],
   "source": [
    "\n",
    "# from xturing.datasets.instruction_dataset import InstructionDataset\n",
    "# from xturing.models import BaseModel\n",
    "\n",
    "# instruction_dataset = InstructionDataset(\"../../data/alpaca_data\")\n",
    "# model = BaseModel.create(\"llama_lora\")\n",
    "\n",
    "import torch\n",
    "import math \n",
    "\n",
    "print(torch.backends.mps.is_available())\n",
    "print(torch.backends.mps.is_built())\n",
    "\n",
    "\n",
    "dtype = torch.float\n",
    "device = torch.device(\"mps\")\n",
    "\n",
    "x = torch.linspace(-math.pi, math.pi, 2000, device=device, dtype=dtype)\n",
    "y = torch.sin(x)\n",
    "\n",
    "a = torch.randn((), device=device, dtype=dtype)\n",
    "b = torch.randn((), device=device, dtype=dtype)\n",
    "c = torch.randn((), device=device, dtype=dtype)\n",
    "d = torch.randn((), device=device, dtype=dtype)\n",
    "\n",
    "learning_rate = 1e-6\n",
    "\n",
    "for t in range(2000):\n",
    "    y_pred = a + b * x + c * x **2 + d * x **3\n",
    "\n",
    "    loss = (y_pred - y).pow(2).sum().item()\n",
    "    if t % 100 == 99:\n",
    "        print(t, loss)\n",
    "    \n",
    "    grad_y_pred = 2.0 * (y_pred - y)\n",
    "    grad_a = grad_y_pred.sum()\n",
    "    grad_b = (grad_y_pred * x).sum()\n",
    "    grad_c = (grad_y_pred * x **2).sum()\n",
    "    grad_d = (grad_y_pred * x **3).sum()\n",
    "\n",
    "    a -= learning_rate * grad_a\n",
    "    b -= learning_rate * grad_b\n",
    "    c -= learning_rate * grad_c\n",
    "    d -= learning_rate * grad_d\n",
    "\n",
    "print(f'Result: y = {a.item()} + {b.item()} x ^2 + {d.item()} x ^3')"
   ]
  }
 ],
 "metadata": {
  "kernelspec": {
   "display_name": "gpt_env",
   "language": "python",
   "name": "python3"
  },
  "language_info": {
   "codemirror_mode": {
    "name": "ipython",
    "version": 3
   },
   "file_extension": ".py",
   "mimetype": "text/x-python",
   "name": "python",
   "nbconvert_exporter": "python",
   "pygments_lexer": "ipython3",
   "version": "3.9.16 (main, Mar  8 2023, 04:29:24) \n[Clang 14.0.6 ]"
  },
  "orig_nbformat": 4,
  "vscode": {
   "interpreter": {
    "hash": "de6c1e2311c926fb76a0c043de27ee8b5b31d30074be124634ceda37e9d1e5e0"
   }
  }
 },
 "nbformat": 4,
 "nbformat_minor": 2
}
